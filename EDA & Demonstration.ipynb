{
 "cells": [
  {
   "cell_type": "code",
   "execution_count": 1,
   "metadata": {},
   "outputs": [],
   "source": [
    "import pandas as pd\n",
    "import numpy as np\n",
    "import seaborn as sns\n",
    "import matplotlib.pyplot as plt\n",
    "import preprocess\n",
    "import model"
   ]
  },
  {
   "cell_type": "markdown",
   "metadata": {},
   "source": [
    "Importing data"
   ]
  },
  {
   "cell_type": "code",
   "execution_count": 2,
   "metadata": {},
   "outputs": [],
   "source": [
    "data = preprocess.get_data()"
   ]
  },
  {
   "cell_type": "markdown",
   "metadata": {},
   "source": [
    "Correlation Between Values"
   ]
  },
  {
   "cell_type": "code",
   "execution_count": 3,
   "metadata": {},
   "outputs": [
    {
     "data": {
      "text/html": [
       "<div>\n",
       "<style scoped>\n",
       "    .dataframe tbody tr th:only-of-type {\n",
       "        vertical-align: middle;\n",
       "    }\n",
       "\n",
       "    .dataframe tbody tr th {\n",
       "        vertical-align: top;\n",
       "    }\n",
       "\n",
       "    .dataframe thead th {\n",
       "        text-align: right;\n",
       "    }\n",
       "</style>\n",
       "<table border=\"1\" class=\"dataframe\">\n",
       "  <thead>\n",
       "    <tr style=\"text-align: right;\">\n",
       "      <th></th>\n",
       "      <th>users</th>\n",
       "      <th>sessions</th>\n",
       "      <th>newusers</th>\n",
       "    </tr>\n",
       "  </thead>\n",
       "  <tbody>\n",
       "    <tr>\n",
       "      <th>users</th>\n",
       "      <td>1.000000</td>\n",
       "      <td>0.955080</td>\n",
       "      <td>0.665614</td>\n",
       "    </tr>\n",
       "    <tr>\n",
       "      <th>sessions</th>\n",
       "      <td>0.955080</td>\n",
       "      <td>1.000000</td>\n",
       "      <td>0.691444</td>\n",
       "    </tr>\n",
       "    <tr>\n",
       "      <th>newusers</th>\n",
       "      <td>0.665614</td>\n",
       "      <td>0.691444</td>\n",
       "      <td>1.000000</td>\n",
       "    </tr>\n",
       "  </tbody>\n",
       "</table>\n",
       "</div>"
      ],
      "text/plain": [
       "             users  sessions  newusers\n",
       "users     1.000000  0.955080  0.665614\n",
       "sessions  0.955080  1.000000  0.691444\n",
       "newusers  0.665614  0.691444  1.000000"
      ]
     },
     "execution_count": 3,
     "metadata": {},
     "output_type": "execute_result"
    }
   ],
   "source": [
    "data.corr()"
   ]
  },
  {
   "cell_type": "code",
   "execution_count": 4,
   "metadata": {},
   "outputs": [
    {
     "data": {
      "text/plain": [
       "<AxesSubplot:>"
      ]
     },
     "execution_count": 4,
     "metadata": {},
     "output_type": "execute_result"
    },
    {
     "data": {
      "image/png": "[encoded data removed]",
      "text/plain": [
       "<Figure size 720x432 with 2 Axes>"
      ]
     },
     "metadata": {
      "needs_background": "light"
     },
     "output_type": "display_data"
    }
   ],
   "source": [
    "plt.figure(figsize=(10, 6))\n",
    "sns.heatmap(data.corr(), annot=True, )"
   ]
  },
  {
   "cell_type": "code",
   "execution_count": 5,
   "metadata": {},
   "outputs": [
    {
     "data": {
      "text/html": [
       "<div>\n",
       "<style scoped>\n",
       "    .dataframe tbody tr th:only-of-type {\n",
       "        vertical-align: middle;\n",
       "    }\n",
       "\n",
       "    .dataframe tbody tr th {\n",
       "        vertical-align: top;\n",
       "    }\n",
       "\n",
       "    .dataframe thead th {\n",
       "        text-align: right;\n",
       "    }\n",
       "</style>\n",
       "<table border=\"1\" class=\"dataframe\">\n",
       "  <thead>\n",
       "    <tr style=\"text-align: right;\">\n",
       "      <th></th>\n",
       "      <th>users</th>\n",
       "      <th>sessions</th>\n",
       "      <th>newusers</th>\n",
       "    </tr>\n",
       "    <tr>\n",
       "      <th>time</th>\n",
       "      <th></th>\n",
       "      <th></th>\n",
       "      <th></th>\n",
       "    </tr>\n",
       "  </thead>\n",
       "  <tbody>\n",
       "    <tr>\n",
       "      <th>2018-12-22 09:00:00</th>\n",
       "      <td>64</td>\n",
       "      <td>60</td>\n",
       "      <td>5</td>\n",
       "    </tr>\n",
       "    <tr>\n",
       "      <th>2018-12-22 10:00:00</th>\n",
       "      <td>79</td>\n",
       "      <td>84</td>\n",
       "      <td>8</td>\n",
       "    </tr>\n",
       "    <tr>\n",
       "      <th>2018-12-22 11:00:00</th>\n",
       "      <td>97</td>\n",
       "      <td>102</td>\n",
       "      <td>22</td>\n",
       "    </tr>\n",
       "    <tr>\n",
       "      <th>2018-12-22 12:00:00</th>\n",
       "      <td>107</td>\n",
       "      <td>102</td>\n",
       "      <td>13</td>\n",
       "    </tr>\n",
       "    <tr>\n",
       "      <th>2018-12-22 13:00:00</th>\n",
       "      <td>105</td>\n",
       "      <td>117</td>\n",
       "      <td>10</td>\n",
       "    </tr>\n",
       "  </tbody>\n",
       "</table>\n",
       "</div>"
      ],
      "text/plain": [
       "                     users  sessions  newusers\n",
       "time                                          \n",
       "2018-12-22 09:00:00     64        60         5\n",
       "2018-12-22 10:00:00     79        84         8\n",
       "2018-12-22 11:00:00     97       102        22\n",
       "2018-12-22 12:00:00    107       102        13\n",
       "2018-12-22 13:00:00    105       117        10"
      ]
     },
     "execution_count": 5,
     "metadata": {},
     "output_type": "execute_result"
    }
   ],
   "source": [
    "data.head()"
   ]
  },
  {
   "cell_type": "code",
   "execution_count": 6,
   "metadata": {},
   "outputs": [
    {
     "name": "stdout",
     "output_type": "stream",
     "text": [
      "<class 'pandas.core.frame.DataFrame'>\n",
      "DatetimeIndex: 169 entries, 2018-12-22 09:00:00 to 2018-12-29 09:00:00\n",
      "Data columns (total 3 columns):\n",
      " #   Column    Non-Null Count  Dtype\n",
      "---  ------    --------------  -----\n",
      " 0   users     169 non-null    int64\n",
      " 1   sessions  169 non-null    int64\n",
      " 2   newusers  169 non-null    int64\n",
      "dtypes: int64(3)\n",
      "memory usage: 5.3 KB\n"
     ]
    }
   ],
   "source": [
    "data.info()"
   ]
  },
  {
   "cell_type": "markdown",
   "metadata": {},
   "source": [
    "Plotting user count change over time"
   ]
  },
  {
   "cell_type": "code",
   "execution_count": 7,
   "metadata": {},
   "outputs": [
    {
     "data": {
      "text/plain": [
       "<matplotlib.legend.Legend at 0x207bc5caf40>"
      ]
     },
     "execution_count": 7,
     "metadata": {},
     "output_type": "execute_result"
    },
    {
     "data": {
      "image/png": "[encoded data removed]",
      "text/plain": [
       "<Figure size 1440x288 with 1 Axes>"
      ]
     },
     "metadata": {
      "needs_background": "light"
     },
     "output_type": "display_data"
    }
   ],
   "source": [
    "plt.figure(figsize=(20,4))\n",
    "plt.title('User Count Over Time')\n",
    "plt.plot(data.users, color='darkblue', label='User Count')\n",
    "plt.legend(loc='best')"
   ]
  },
  {
   "cell_type": "markdown",
   "metadata": {},
   "source": [
    "Training a Seq2Seq Model"
   ]
  },
  {
   "cell_type": "code",
   "execution_count": 8,
   "metadata": {},
   "outputs": [],
   "source": [
    "INPUT_SEQ_LEN = 24\n",
    "OUTPUT_SEQ_LEN = 6"
   ]
  },
  {
   "cell_type": "code",
   "execution_count": 9,
   "metadata": {},
   "outputs": [],
   "source": [
    "input_seq, output_seq = preprocess.generate_train_sequences(data.values, INPUT_SEQ_LEN, OUTPUT_SEQ_LEN)"
   ]
  },
  {
   "cell_type": "code",
   "execution_count": 10,
   "metadata": {},
   "outputs": [
    {
     "data": {
      "text/plain": [
       "(139, 24, 3)"
      ]
     },
     "execution_count": 10,
     "metadata": {},
     "output_type": "execute_result"
    }
   ],
   "source": [
    "input_seq.shape"
   ]
  },
  {
   "cell_type": "code",
   "execution_count": 11,
   "metadata": {},
   "outputs": [
    {
     "data": {
      "text/plain": [
       "(139, 6, 3)"
      ]
     },
     "execution_count": 11,
     "metadata": {},
     "output_type": "execute_result"
    }
   ],
   "source": [
    "output_seq.shape"
   ]
  },
  {
   "cell_type": "code",
   "execution_count": 12,
   "metadata": {},
   "outputs": [
    {
     "data": {
      "image/png": "[encoded data removed]",
      "text/plain": [
       "<Figure size 432x288 with 1 Axes>"
      ]
     },
     "metadata": {
      "needs_background": "light"
     },
     "output_type": "display_data"
    }
   ],
   "source": [
    "l1, = plt.plot(range(24), input_seq[1].T[0], 'go', label = 'input sequence for one sample')\n",
    "l2, = plt.plot(range(24,30), output_seq[1].T[0], 'ro', label = 'output sequence for one sample')\n",
    "plt.legend(handles = [l1,l2], loc = 'best')\n",
    "plt.show()"
   ]
  },
  {
   "cell_type": "code",
   "execution_count": 13,
   "metadata": {},
   "outputs": [],
   "source": [
    "train_input_seq, test_input_seq, train_output_seq, test_output_seq = preprocess.create_train_test_data()"
   ]
  },
  {
   "cell_type": "code",
   "execution_count": 14,
   "metadata": {},
   "outputs": [
    {
     "name": "stdout",
     "output_type": "stream",
     "text": [
      "(111, 24, 3)\n",
      "(111, 6, 3)\n",
      "(28, 24, 3)\n",
      "(28, 6, 3)\n"
     ]
    }
   ],
   "source": [
    "print(train_input_seq.shape)\n",
    "print(train_output_seq.shape)\n",
    "print(test_input_seq.shape)\n",
    "print(test_output_seq.shape)"
   ]
  },
  {
   "cell_type": "code",
   "execution_count": 15,
   "metadata": {},
   "outputs": [],
   "source": [
    "seq2seq = model.Seq2SeqModel(train_input_seq,train_output_seq)"
   ]
  },
  {
   "cell_type": "code",
   "execution_count": 16,
   "metadata": {},
   "outputs": [
    {
     "name": "stdout",
     "output_type": "stream",
     "text": [
      "Epoch 1/200\n",
      "9/9 [==============================] - 7s 103ms/step - loss: 6862.2407 - mae: 53.6694 - root_mean_squared_error: 82.8386 - val_loss: 3743795.7500 - val_mae: 878.2032 - val_root_mean_squared_error: 1934.8892\n",
      "Epoch 2/200\n",
      "9/9 [==============================] - 0s 26ms/step - loss: 4801.9062 - mae: 45.7659 - root_mean_squared_error: 69.2958 - val_loss: 2300.8992 - val_mae: 35.2953 - val_root_mean_squared_error: 47.9677\n",
      "Epoch 3/200\n",
      "9/9 [==============================] - 0s 26ms/step - loss: 2780.8384 - mae: 37.8835 - root_mean_squared_error: 52.7337 - val_loss: 1949.1865 - val_mae: 31.2942 - val_root_mean_squared_error: 44.1496\n",
      "Epoch 4/200\n",
      "9/9 [==============================] - 0s 26ms/step - loss: 2001.1820 - mae: 31.1122 - root_mean_squared_error: 44.7346 - val_loss: 1179.2433 - val_mae: 23.6561 - val_root_mean_squared_error: 34.3401\n",
      "Epoch 5/200\n",
      "9/9 [==============================] - 0s 26ms/step - loss: 1280.3278 - mae: 24.7173 - root_mean_squared_error: 35.7817 - val_loss: 1033.0214 - val_mae: 22.6005 - val_root_mean_squared_error: 32.1406\n",
      "Epoch 6/200\n",
      "9/9 [==============================] - 0s 26ms/step - loss: 1194.9564 - mae: 23.8414 - root_mean_squared_error: 34.5681 - val_loss: 882.5054 - val_mae: 21.2729 - val_root_mean_squared_error: 29.7070\n",
      "Epoch 7/200\n",
      "9/9 [==============================] - 0s 26ms/step - loss: 787.6957 - mae: 19.7407 - root_mean_squared_error: 28.0659 - val_loss: 942.7325 - val_mae: 21.2428 - val_root_mean_squared_error: 30.7039\n",
      "Epoch 8/200\n",
      "9/9 [==============================] - 0s 26ms/step - loss: 886.5809 - mae: 21.3136 - root_mean_squared_error: 29.7755 - val_loss: 861.5938 - val_mae: 20.5125 - val_root_mean_squared_error: 29.3529\n",
      "Epoch 9/200\n",
      "9/9 [==============================] - 0s 26ms/step - loss: 679.5017 - mae: 18.5603 - root_mean_squared_error: 26.0673 - val_loss: 1205226.5000 - val_mae: 752.1720 - val_root_mean_squared_error: 1097.8281\n",
      "Epoch 10/200\n",
      "9/9 [==============================] - 0s 26ms/step - loss: 627.0350 - mae: 17.9261 - root_mean_squared_error: 25.0407 - val_loss: 702.3861 - val_mae: 19.2217 - val_root_mean_squared_error: 26.5026\n",
      "Epoch 11/200\n",
      "9/9 [==============================] - 0s 27ms/step - loss: 598.6686 - mae: 17.7734 - root_mean_squared_error: 24.4677 - val_loss: 675.9352 - val_mae: 19.1915 - val_root_mean_squared_error: 25.9988\n",
      "Epoch 12/200\n",
      "9/9 [==============================] - 0s 27ms/step - loss: 610.0253 - mae: 17.4860 - root_mean_squared_error: 24.6987 - val_loss: 712.8413 - val_mae: 20.2971 - val_root_mean_squared_error: 26.6991\n",
      "Epoch 13/200\n",
      "9/9 [==============================] - 0s 26ms/step - loss: 574.8085 - mae: 17.4867 - root_mean_squared_error: 23.9752 - val_loss: 723.0683 - val_mae: 19.6487 - val_root_mean_squared_error: 26.8899\n",
      "Epoch 14/200\n",
      "9/9 [==============================] - 0s 27ms/step - loss: 589.6490 - mae: 17.3666 - root_mean_squared_error: 24.2827 - val_loss: 680.3076 - val_mae: 19.1621 - val_root_mean_squared_error: 26.0827\n",
      "Epoch 15/200\n",
      "9/9 [==============================] - 0s 27ms/step - loss: 604.1913 - mae: 17.7117 - root_mean_squared_error: 24.5803 - val_loss: 695.9100 - val_mae: 19.9598 - val_root_mean_squared_error: 26.3801\n",
      "Epoch 16/200\n",
      "9/9 [==============================] - 0s 26ms/step - loss: 626.2141 - mae: 18.3971 - root_mean_squared_error: 25.0243 - val_loss: 2636.9165 - val_mae: 31.9396 - val_root_mean_squared_error: 51.3509\n",
      "Epoch 17/200\n",
      "9/9 [==============================] - 0s 26ms/step - loss: 658.6183 - mae: 18.0532 - root_mean_squared_error: 25.6636 - val_loss: 849.5059 - val_mae: 21.3137 - val_root_mean_squared_error: 29.1463\n",
      "Epoch 18/200\n",
      "9/9 [==============================] - 0s 29ms/step - loss: 536.1334 - mae: 17.1923 - root_mean_squared_error: 23.1546 - val_loss: 612.7000 - val_mae: 18.8729 - val_root_mean_squared_error: 24.7528\n",
      "Epoch 19/200\n",
      "9/9 [==============================] - 0s 28ms/step - loss: 559.8785 - mae: 17.3352 - root_mean_squared_error: 23.6618 - val_loss: 602.3190 - val_mae: 19.0493 - val_root_mean_squared_error: 24.5422\n",
      "Epoch 20/200\n",
      "9/9 [==============================] - 0s 27ms/step - loss: 590.2698 - mae: 17.6504 - root_mean_squared_error: 24.2955 - val_loss: 600.5439 - val_mae: 18.6194 - val_root_mean_squared_error: 24.5060\n",
      "Epoch 21/200\n",
      "9/9 [==============================] - 0s 26ms/step - loss: 625.9654 - mae: 17.9078 - root_mean_squared_error: 25.0193 - val_loss: 570.7188 - val_mae: 18.0756 - val_root_mean_squared_error: 23.8897\n",
      "Epoch 22/200\n",
      "9/9 [==============================] - 0s 26ms/step - loss: 664.3875 - mae: 18.7535 - root_mean_squared_error: 25.7757 - val_loss: 624.3624 - val_mae: 18.7929 - val_root_mean_squared_error: 24.9872\n",
      "Epoch 23/200\n",
      "9/9 [==============================] - 0s 26ms/step - loss: 529.4848 - mae: 16.6471 - root_mean_squared_error: 23.0105 - val_loss: 591.8884 - val_mae: 18.3963 - val_root_mean_squared_error: 24.3288\n",
      "Epoch 24/200\n",
      "9/9 [==============================] - 0s 26ms/step - loss: 552.0990 - mae: 17.2028 - root_mean_squared_error: 23.4968 - val_loss: 587.2231 - val_mae: 18.5787 - val_root_mean_squared_error: 24.2327\n",
      "Epoch 25/200\n",
      "9/9 [==============================] - 0s 26ms/step - loss: 508.8051 - mae: 16.6153 - root_mean_squared_error: 22.5567 - val_loss: 659.9546 - val_mae: 19.1565 - val_root_mean_squared_error: 25.6896\n",
      "Epoch 26/200\n",
      "9/9 [==============================] - 0s 26ms/step - loss: 563.2803 - mae: 17.3619 - root_mean_squared_error: 23.7335 - val_loss: 750.2379 - val_mae: 19.7712 - val_root_mean_squared_error: 27.3905\n",
      "Epoch 27/200\n",
      "9/9 [==============================] - 0s 26ms/step - loss: 575.5488 - mae: 17.6165 - root_mean_squared_error: 23.9906 - val_loss: 660.9217 - val_mae: 19.2651 - val_root_mean_squared_error: 25.7084\n",
      "Epoch 28/200\n",
      "9/9 [==============================] - 0s 27ms/step - loss: 584.6951 - mae: 17.5588 - root_mean_squared_error: 24.1805 - val_loss: 732.9189 - val_mae: 20.1364 - val_root_mean_squared_error: 27.0725\n",
      "Epoch 29/200\n",
      "9/9 [==============================] - 0s 26ms/step - loss: 496.8505 - mae: 16.2013 - root_mean_squared_error: 22.2901 - val_loss: 659.2684 - val_mae: 18.9100 - val_root_mean_squared_error: 25.6762\n",
      "Epoch 30/200\n",
      "9/9 [==============================] - 0s 26ms/step - loss: 508.0575 - mae: 16.0646 - root_mean_squared_error: 22.5401 - val_loss: 615.8643 - val_mae: 18.7789 - val_root_mean_squared_error: 24.8166\n",
      "Epoch 31/200\n",
      "9/9 [==============================] - 0s 26ms/step - loss: 526.8694 - mae: 17.0081 - root_mean_squared_error: 22.9536 - val_loss: 677.2743 - val_mae: 19.5243 - val_root_mean_squared_error: 26.0245\n",
      "Epoch 32/200\n",
      "9/9 [==============================] - 0s 27ms/step - loss: 538.4634 - mae: 17.0540 - root_mean_squared_error: 23.2048 - val_loss: 589.0649 - val_mae: 18.6555 - val_root_mean_squared_error: 24.2707\n",
      "Epoch 33/200\n",
      "9/9 [==============================] - 0s 26ms/step - loss: 525.9809 - mae: 16.7046 - root_mean_squared_error: 22.9343 - val_loss: 598.3365 - val_mae: 18.3079 - val_root_mean_squared_error: 24.4609\n",
      "Epoch 34/200\n",
      "9/9 [==============================] - 0s 26ms/step - loss: 490.1931 - mae: 16.0272 - root_mean_squared_error: 22.1403 - val_loss: 626.6223 - val_mae: 18.8068 - val_root_mean_squared_error: 25.0324\n",
      "Epoch 35/200\n",
      "9/9 [==============================] - 0s 26ms/step - loss: 514.1151 - mae: 16.6576 - root_mean_squared_error: 22.6741 - val_loss: 632.6028 - val_mae: 18.6773 - val_root_mean_squared_error: 25.1516\n",
      "Epoch 36/200\n",
      "9/9 [==============================] - 0s 27ms/step - loss: 546.3752 - mae: 16.8388 - root_mean_squared_error: 23.3747 - val_loss: 636.2760 - val_mae: 19.0414 - val_root_mean_squared_error: 25.2245\n",
      "Epoch 37/200\n",
      "9/9 [==============================] - 0s 26ms/step - loss: 520.7838 - mae: 16.7065 - root_mean_squared_error: 22.8207 - val_loss: 652.2532 - val_mae: 19.2547 - val_root_mean_squared_error: 25.5392\n",
      "Epoch 38/200\n",
      "9/9 [==============================] - 0s 26ms/step - loss: 534.5609 - mae: 16.9914 - root_mean_squared_error: 23.1206 - val_loss: 7937.9966 - val_mae: 67.5692 - val_root_mean_squared_error: 89.0954\n",
      "Epoch 39/200\n",
      "9/9 [==============================] - 0s 29ms/step - loss: 505.2068 - mae: 16.5734 - root_mean_squared_error: 22.4768 - val_loss: 25292.3340 - val_mae: 117.4152 - val_root_mean_squared_error: 159.0356\n",
      "Epoch 40/200\n",
      "9/9 [==============================] - 0s 28ms/step - loss: 546.3441 - mae: 17.0196 - root_mean_squared_error: 23.3740 - val_loss: 689.8459 - val_mae: 19.2950 - val_root_mean_squared_error: 26.2649\n",
      "Epoch 41/200\n",
      "9/9 [==============================] - 0s 28ms/step - loss: 518.6936 - mae: 16.7367 - root_mean_squared_error: 22.7748 - val_loss: 676.6669 - val_mae: 19.2732 - val_root_mean_squared_error: 26.0128\n",
      "Epoch 42/200\n",
      "9/9 [==============================] - 0s 26ms/step - loss: 558.7886 - mae: 17.3840 - root_mean_squared_error: 23.6387 - val_loss: 941.8640 - val_mae: 21.7444 - val_root_mean_squared_error: 30.6898\n",
      "Epoch 43/200\n",
      "9/9 [==============================] - 0s 26ms/step - loss: 521.9407 - mae: 16.6263 - root_mean_squared_error: 22.8460 - val_loss: 657.9765 - val_mae: 19.2615 - val_root_mean_squared_error: 25.6511\n",
      "Epoch 44/200\n",
      "9/9 [==============================] - 0s 27ms/step - loss: 518.2282 - mae: 16.7956 - root_mean_squared_error: 22.7646 - val_loss: 659.5038 - val_mae: 19.4201 - val_root_mean_squared_error: 25.6808\n",
      "Epoch 45/200\n",
      "9/9 [==============================] - 0s 31ms/step - loss: 526.8613 - mae: 17.0715 - root_mean_squared_error: 22.9535 - val_loss: 637.0392 - val_mae: 18.7386 - val_root_mean_squared_error: 25.2396\n",
      "Epoch 46/200\n",
      "9/9 [==============================] - 0s 29ms/step - loss: 479.9965 - mae: 16.0518 - root_mean_squared_error: 21.9088 - val_loss: 727.9345 - val_mae: 19.6403 - val_root_mean_squared_error: 26.9803\n",
      "Epoch 47/200\n",
      "9/9 [==============================] - 0s 26ms/step - loss: 543.3274 - mae: 17.0274 - root_mean_squared_error: 23.3094 - val_loss: 681.0955 - val_mae: 19.3216 - val_root_mean_squared_error: 26.0978\n",
      "Epoch 48/200\n",
      "9/9 [==============================] - 0s 28ms/step - loss: 535.8911 - mae: 17.1807 - root_mean_squared_error: 23.1493 - val_loss: 675.2381 - val_mae: 19.4419 - val_root_mean_squared_error: 25.9853\n",
      "Epoch 49/200\n",
      "9/9 [==============================] - 0s 33ms/step - loss: 497.3104 - mae: 16.4143 - root_mean_squared_error: 22.3005 - val_loss: 695.4315 - val_mae: 19.4114 - val_root_mean_squared_error: 26.3710\n",
      "Epoch 50/200\n",
      "9/9 [==============================] - 0s 27ms/step - loss: 502.7538 - mae: 16.5148 - root_mean_squared_error: 22.4222 - val_loss: 710.3804 - val_mae: 19.4425 - val_root_mean_squared_error: 26.6530\n",
      "Epoch 51/200\n",
      "9/9 [==============================] - 0s 26ms/step - loss: 554.2460 - mae: 17.2866 - root_mean_squared_error: 23.5424 - val_loss: 1535856512.0000 - val_mae: 30337.1914 - val_root_mean_squared_error: 39190.0039\n",
      "Epoch 52/200\n",
      "9/9 [==============================] - 0s 30ms/step - loss: 571.9330 - mae: 17.5220 - root_mean_squared_error: 23.9151 - val_loss: 1455615616.0000 - val_mae: 29403.4785 - val_root_mean_squared_error: 38152.5312\n",
      "Epoch 53/200\n",
      "9/9 [==============================] - 0s 31ms/step - loss: 540.6377 - mae: 17.1195 - root_mean_squared_error: 23.2516 - val_loss: 686.6235 - val_mae: 19.3648 - val_root_mean_squared_error: 26.2035\n",
      "Epoch 54/200\n",
      "9/9 [==============================] - 0s 26ms/step - loss: 498.9846 - mae: 16.3119 - root_mean_squared_error: 22.3380 - val_loss: 2590696.7500 - val_mae: 483.8376 - val_root_mean_squared_error: 1609.5642\n",
      "Epoch 55/200\n",
      "9/9 [==============================] - 0s 26ms/step - loss: 502.8607 - mae: 16.3852 - root_mean_squared_error: 22.4246 - val_loss: 674.3342 - val_mae: 19.3689 - val_root_mean_squared_error: 25.9679\n",
      "Epoch 56/200\n",
      "9/9 [==============================] - 0s 26ms/step - loss: 508.8380 - mae: 16.6111 - root_mean_squared_error: 22.5574 - val_loss: 142581072.0000 - val_mae: 1926.1838 - val_root_mean_squared_error: 11940.7314\n",
      "Epoch 57/200\n",
      "9/9 [==============================] - 0s 26ms/step - loss: 501.8554 - mae: 16.4973 - root_mean_squared_error: 22.4021 - val_loss: 636.5222 - val_mae: 19.1344 - val_root_mean_squared_error: 25.2294\n",
      "Epoch 58/200\n",
      "9/9 [==============================] - 0s 26ms/step - loss: 508.5496 - mae: 16.5242 - root_mean_squared_error: 22.5510 - val_loss: 604.8505 - val_mae: 18.5079 - val_root_mean_squared_error: 24.5937\n",
      "Epoch 59/200\n",
      "9/9 [==============================] - 0s 29ms/step - loss: 532.8489 - mae: 17.1557 - root_mean_squared_error: 23.0835 - val_loss: 673.1684 - val_mae: 19.3726 - val_root_mean_squared_error: 25.9455\n",
      "Epoch 60/200\n",
      "9/9 [==============================] - 0s 28ms/step - loss: 517.0072 - mae: 16.5079 - root_mean_squared_error: 22.7378 - val_loss: 656.6862 - val_mae: 19.1948 - val_root_mean_squared_error: 25.6259\n",
      "Epoch 61/200\n",
      "9/9 [==============================] - 0s 29ms/step - loss: 488.1890 - mae: 16.3208 - root_mean_squared_error: 22.0950 - val_loss: 659.6517 - val_mae: 19.2581 - val_root_mean_squared_error: 25.6837\n",
      "Epoch 62/200\n",
      "9/9 [==============================] - 0s 28ms/step - loss: 513.3313 - mae: 16.5782 - root_mean_squared_error: 22.6568 - val_loss: 678426304.0000 - val_mae: 3653.8584 - val_root_mean_squared_error: 26046.6172\n",
      "Epoch 63/200\n",
      "9/9 [==============================] - 0s 26ms/step - loss: 524.2286 - mae: 16.6530 - root_mean_squared_error: 22.8960 - val_loss: 68415742017536.0000 - val_mae: 1826794.8750 - val_root_mean_squared_error: 8271380.5000\n",
      "Epoch 64/200\n",
      "9/9 [==============================] - 0s 27ms/step - loss: 547.2512 - mae: 17.0792 - root_mean_squared_error: 23.3934 - val_loss: 690.8525 - val_mae: 19.4455 - val_root_mean_squared_error: 26.2841\n",
      "Epoch 65/200\n",
      "9/9 [==============================] - 0s 27ms/step - loss: 542.4414 - mae: 17.1364 - root_mean_squared_error: 23.2904 - val_loss: 649.5158 - val_mae: 19.1321 - val_root_mean_squared_error: 25.4856\n",
      "Epoch 66/200\n",
      "9/9 [==============================] - 0s 27ms/step - loss: 535.8301 - mae: 16.9725 - root_mean_squared_error: 23.1480 - val_loss: 758.9822 - val_mae: 20.7522 - val_root_mean_squared_error: 27.5496\n",
      "Epoch 67/200\n",
      "9/9 [==============================] - 0s 26ms/step - loss: 526.3962 - mae: 16.9675 - root_mean_squared_error: 22.9433 - val_loss: 1934.4554 - val_mae: 24.5698 - val_root_mean_squared_error: 43.9824\n",
      "Epoch 68/200\n",
      "9/9 [==============================] - 0s 26ms/step - loss: 530.5453 - mae: 16.9603 - root_mean_squared_error: 23.0336 - val_loss: 740.1984 - val_mae: 20.2576 - val_root_mean_squared_error: 27.2066\n",
      "Epoch 69/200\n",
      "9/9 [==============================] - 0s 27ms/step - loss: 524.2123 - mae: 16.9147 - root_mean_squared_error: 22.8957 - val_loss: 1672.6970 - val_mae: 27.1631 - val_root_mean_squared_error: 40.8986\n",
      "Epoch 70/200\n",
      "9/9 [==============================] - 0s 27ms/step - loss: 516.4111 - mae: 16.8497 - root_mean_squared_error: 22.7247 - val_loss: 701.3565 - val_mae: 19.7870 - val_root_mean_squared_error: 26.4831\n",
      "Epoch 71/200\n",
      "9/9 [==============================] - 0s 26ms/step - loss: 517.6555 - mae: 16.7547 - root_mean_squared_error: 22.7520 - val_loss: 681.5612 - val_mae: 19.6675 - val_root_mean_squared_error: 26.1067\n"
     ]
    }
   ],
   "source": [
    "seq2seq.fit_model()"
   ]
  },
  {
   "cell_type": "markdown",
   "metadata": {},
   "source": [
    "Train Loss "
   ]
  },
  {
   "cell_type": "code",
   "execution_count": 17,
   "metadata": {},
   "outputs": [
    {
     "data": {
      "image/png": "[encoded data removed]",
      "text/plain": [
       "<Figure size 432x288 with 1 Axes>"
      ]
     },
     "metadata": {
      "needs_background": "light"
     },
     "output_type": "display_data"
    }
   ],
   "source": [
    "plt.plot(seq2seq.history.history['mae'], label='Train MAE'), \n",
    "plt.plot(seq2seq.history.history['val_mae'], label='Validation MAE')\n",
    "plt.ylabel('MAE')\n",
    "plt.xlabel('Epoch')\n",
    "plt.title('Train vs. Validation MAE')\n",
    "plt.legend(loc='upper center')\n",
    "plt.show()"
   ]
  },
  {
   "cell_type": "code",
   "execution_count": 18,
   "metadata": {},
   "outputs": [
    {
     "data": {
      "image/png": "[encoded data removed]",
      "text/plain": [
       "<Figure size 432x288 with 1 Axes>"
      ]
     },
     "metadata": {
      "needs_background": "light"
     },
     "output_type": "display_data"
    }
   ],
   "source": [
    "plt.plot(seq2seq.history.history['root_mean_squared_error'], label='Train RMSE'), \n",
    "plt.plot(seq2seq.history.history['val_root_mean_squared_error'], label='Validation RMSE')\n",
    "plt.ylabel('RMSE')\n",
    "plt.xlabel('Epoch')\n",
    "plt.title('Train vs. Validation RMSE')\n",
    "plt.legend(loc='upper center')\n",
    "plt.show()"
   ]
  },
  {
   "cell_type": "markdown",
   "metadata": {},
   "source": [
    "Example Prediction"
   ]
  },
  {
   "cell_type": "code",
   "execution_count": 19,
   "metadata": {},
   "outputs": [],
   "source": [
    "pred = seq2seq.predict(test_input_seq)"
   ]
  },
  {
   "cell_type": "code",
   "execution_count": 20,
   "metadata": {},
   "outputs": [
    {
     "data": {
      "image/png": "[encoded data removed]",
      "text/plain": [
       "<Figure size 432x288 with 1 Axes>"
      ]
     },
     "metadata": {
      "needs_background": "light"
     },
     "output_type": "display_data"
    }
   ],
   "source": [
    "l1, = plt.plot(range(24), input_seq[4].T[0], 'go', label = 'input sequence')\n",
    "l2, = plt.plot(range(24,30), output_seq[4].T[0], 'ro', label = 'output sequence')\n",
    "l3, = plt.plot(range(24,30), pred[4].T[0], 'bo', label = 'predicted sequence')\n",
    "plt.title('Example Prediction')\n",
    "plt.legend(handles = [l1,l2,l3], loc = 'best')\n",
    "plt.show()"
   ]
  },
  {
   "cell_type": "markdown",
   "metadata": {},
   "source": [
    "Prediction 30.12.18 09:00:00"
   ]
  },
  {
   "cell_type": "code",
   "execution_count": 21,
   "metadata": {},
   "outputs": [
    {
     "data": {
      "text/plain": [
       "78"
      ]
     },
     "execution_count": 21,
     "metadata": {},
     "output_type": "execute_result"
    }
   ],
   "source": [
    "int(seq2seq.predict_next_24hours(data[145:]))"
   ]
  }
 ],
 "metadata": {
  "kernelspec": {
   "display_name": "Python 3.8.8 ('base')",
   "language": "python",
   "name": "python3"
  },
  "language_info": {
   "codemirror_mode": {
    "name": "ipython",
    "version": 3
   },
   "file_extension": ".py",
   "mimetype": "text/x-python",
   "name": "python",
   "nbconvert_exporter": "python",
   "pygments_lexer": "ipython3",
   "version": "3.8.8"
  },
  "orig_nbformat": 4,
  "vscode": {
   "interpreter": {
    "hash": "939426be350ea136d7702cb38d9d1c611a2da7982b737f0b7151fc28273a1a91"
   }
  }
 },
 "nbformat": 4,
 "nbformat_minor": 2
}
